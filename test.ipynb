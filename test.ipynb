{
 "cells": [
  {
   "cell_type": "code",
   "execution_count": 1,
   "metadata": {},
   "outputs": [],
   "source": [
    "import autorec"
   ]
  },
  {
   "cell_type": "code",
   "execution_count": 2,
   "metadata": {},
   "outputs": [
    {
     "name": "stdout",
     "output_type": "stream",
     "text": [
      "Get token success.\n"
     ]
    }
   ],
   "source": [
    "session = autorec.AutoRecSession()\n",
    "token = session.get_alist_token()\n"
   ]
  },
  {
   "cell_type": "code",
   "execution_count": 3,
   "metadata": {},
   "outputs": [
    {
     "name": "stdout",
     "output_type": "stream",
     "text": [
      "Upload success.\n"
     ]
    }
   ],
   "source": [
    "session.upload_alist(token, \"F:\\\\Wase\\\\生贺企划\\\\生贺成品.mp4\", \"/quark/test/生贺成品.mp4\", False)"
   ]
  }
 ],
 "metadata": {
  "kernelspec": {
   "display_name": "bili_toolkit",
   "language": "python",
   "name": "python3"
  },
  "language_info": {
   "codemirror_mode": {
    "name": "ipython",
    "version": 3
   },
   "file_extension": ".py",
   "mimetype": "text/x-python",
   "name": "python",
   "nbconvert_exporter": "python",
   "pygments_lexer": "ipython3",
   "version": "3.12.0"
  }
 },
 "nbformat": 4,
 "nbformat_minor": 2
}
