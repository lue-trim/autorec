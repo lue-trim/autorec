{
 "cells": [
  {
   "cell_type": "code",
   "execution_count": 1,
   "metadata": {},
   "outputs": [],
   "source": [
    "import autorec"
   ]
  },
  {
   "cell_type": "code",
   "execution_count": 2,
   "metadata": {},
   "outputs": [
    {
     "data": {
      "text/plain": [
       "'bd9b83bbff1d1e2795bf720eb2f663b711d0362733dd83165be1c1e84a77289d6724afb02610b844a990e2810ed49def340e37775c24a8f22ba357cfc41b5ce1e523b0e32d73e36fb597e33d426caba1c003455e3035693a89c3e8eace84766b0fad35191a47ca96346fdb0e844dd12232691d9b30fe9388db72efb82f8b0f03'"
      ]
     },
     "execution_count": 2,
     "metadata": {},
     "output_type": "execute_result"
    }
   ],
   "source": [
    "import time \n",
    "ts = round(time.time()*1000)\n",
    "autorec.getCorrespondPath(ts)"
   ]
  },
  {
   "cell_type": "code",
   "execution_count": 2,
   "metadata": {},
   "outputs": [
    {
     "name": "stdout",
     "output_type": "stream",
     "text": [
      "Get token success.\n"
     ]
    }
   ],
   "source": [
    "session = autorec.AutoRecSession()\n",
    "token = session.get_alist_token()\n"
   ]
  },
  {
   "cell_type": "code",
   "execution_count": 3,
   "metadata": {},
   "outputs": [
    {
     "name": "stdout",
     "output_type": "stream",
     "text": [
      "Upload success.\n"
     ]
    }
   ],
   "source": [
    "session.upload_alist(token, \"F:\\\\Wase\\\\生贺企划\\\\生贺成品.mp4\", \"/quark/test/生贺成品.mp4\", False)"
   ]
  }
 ],
 "metadata": {
  "kernelspec": {
   "display_name": "bili_toolkit",
   "language": "python",
   "name": "python3"
  },
  "language_info": {
   "codemirror_mode": {
    "name": "ipython",
    "version": 3
   },
   "file_extension": ".py",
   "mimetype": "text/x-python",
   "name": "python",
   "nbconvert_exporter": "python",
   "pygments_lexer": "ipython3",
   "version": "3.12.0"
  }
 },
 "nbformat": 4,
 "nbformat_minor": 2
}
